{
  "nbformat": 4,
  "nbformat_minor": 0,
  "metadata": {
    "colab": {
      "provenance": []
    },
    "kernelspec": {
      "name": "python3",
      "display_name": "Python 3"
    },
    "language_info": {
      "name": "python"
    }
  },
  "cells": [
    {
      "cell_type": "code",
      "execution_count": null,
      "metadata": {
        "id": "6n-ricFqlYTm"
      },
      "outputs": [],
      "source": []
    },
    {
      "cell_type": "markdown",
      "source": [
        "1. What are data structures, and why are they important\n",
        " ->Data structures are ways to organize and store data in a computer so that it can be efficiently accessed, modified, and manipulated. They are important because they enable efficient data management, reduce computational complexity, and improve code readability.\n",
        "2. Explain the difference between mutable and immutable data types with examples\n",
        " ->Mutable data types can be modified after creation, while immutable data types cannot.\n",
        "Examples:\n",
        "- Mutable:  my_list = [1, 2, 3];\n",
        "my_list[0] = 10\n",
        "- Immutable:  my_tuple = (1, 2, 3);\n",
        "my_tuple[0] = 10 #would raise an error\n",
        "3. What are the main differences between lists and tuples in Python\n",
        " ->Lists are mutable, while tuples are immutable. Lists are defined using square brackets [], while tuples are defined using parentheses ().\n",
        "Example:\n",
        "my_list = [1, 2, 3]#list example\n",
        "my_list[0] = 10  # Valid\n",
        "my_tuple = (1, 2, 3)#tuple example\n",
        "my_tuple[0] = 10  # Raises an error\n",
        "4.  Describe how dictionaries store data\n",
        " ->Dictionaries store data as key-value pairs. They are defined using curly brackets {}.\n",
        "Example:\n",
        "my_dict = {'name': 'shivendra', 'age': 20}\n",
        "print(my_dict['name'])  # Output: shivendra\n",
        "5. Why might you use a set instead of a list in Python ->Sets are unordered collections of unique elements. They are defined using the set() function.\n",
        "Example:\n",
        "my_set = set([1, 2, 2, 3, 4, 4, 5])\n",
        "print(my_set)  # Output: {1, 2, 3, 4, 5}\n",
        "6. What is a string in Python, and how is it different from a list->Strings are immutable sequences of characters. characters are represented using numerical values>>each character is assigned a unique value\n",
        "Example:\n",
        "my_string = 'hello world'\n",
        "print(my_string[0])  # Output: h\n",
        "7. How do tuples ensure data integrity in Python\n",
        " ->Tuples ensures data intergrity by being immutable,which means their contents cannot be modified after creation.\n",
        "8. What is a hash table, and how does it relate to dictionaries in Python\n",
        " ->Hash tables are data structure that store key-value pairs using a hash function.Dictionaries in python are implement using hash tables.\n",
        "9.  Can lists contain different data types in Python\n",
        " ->List can contain different data types including strings,integers,floats and other lists.\n",
        "10. Explain why strings are immutable in Python\n",
        " ->Strings are immutable in python because they implemented as tuples of character,which are also immutable\n",
        "11. What advantages do dictionaries offer over lists for certain tasks\n",
        " ->Dictionaries offer faster loockups and insertion compared to lists,especially for large datasets.\n",
        "12. Describe a scenario where using a tuple would be preferable over a list\n",
        " -> Tuples are preferable over lists when data integrity is important,and the data should not be modified after creation.\n",
        "13.  How do sets handle duplicate values in Python\n",
        " ->Sets handle duplicate values by automatically removing them.\n",
        "14.  How does the “in” keyword work differently for lists and dictionaries\n",
        " ->For lists,it checks if value present in the list. For dictionaries,it checks if a key present in the dictionaries.\n",
        "15. Can you modify the elements of a tuple? Explain why or why not\n",
        " ->tuples cannot be modified after creation because they are data integrity by being immutable.\n",
        "16. What is a nested dictionary, and give an example of its use case\n",
        " -> Nested dictionaries that contains other dictionaries as values.\n",
        " Example:\n",
        " my_dict = {'name': 'shivendra', 'age': 20}\n",
        "print(my_dict['name'])  # Output: shivendra\n",
        "17. Describe the time complexity of accessing elements in a dictionary\n",
        " -> Accessing elements in dictionary has an average time complexity of O(1),making it very efficient.\n",
        "18. In what situations are lists preferred over dictionaries\n",
        " ->Lists are preffered over dictionaries when the data is ordered or needs to be accessed by index.\n",
        "19. Why are dictionaries considered unordered, and how does that affect data retrieval\n",
        " ->Dictionaries are considered unordered because the order of the key-value pairs is not gauranteed. this affects data retrieval because you cannot rely on the order of the items.\n",
        "20. Explain the difference between a list and a dictionary in terms of data retrieval.->Lists allow data retrieval by index, while dictionaries allow data retrieval by key.\n",
        "\n",
        "\n",
        "\n",
        "\n",
        "\n",
        "\n",
        "\n"
      ],
      "metadata": {
        "id": "tj7u-8CklZfa"
      }
    },
    {
      "cell_type": "code",
      "source": [
        "#1 Write a code to create a string with your name and print it\n",
        "name = \"shivendra\"\n",
        "print(name)"
      ],
      "metadata": {
        "colab": {
          "base_uri": "https://localhost:8080/"
        },
        "id": "EypqddbSygBk",
        "outputId": "8412f4f6-b88a-4e25-f889-23a853d7a075"
      },
      "execution_count": 1,
      "outputs": [
        {
          "output_type": "stream",
          "name": "stdout",
          "text": [
            "shivendra\n"
          ]
        }
      ]
    },
    {
      "cell_type": "code",
      "source": [
        "#2 Write a code to find the length of the string \"Hello World\"\n",
        "string = \"Hello World\"\n",
        "print(len(string))"
      ],
      "metadata": {
        "colab": {
          "base_uri": "https://localhost:8080/"
        },
        "id": "Kyk9dCREzGLA",
        "outputId": "37c50fae-6b08-4cf0-b80d-be02f42a0343"
      },
      "execution_count": 2,
      "outputs": [
        {
          "output_type": "stream",
          "name": "stdout",
          "text": [
            "11\n"
          ]
        }
      ]
    },
    {
      "cell_type": "markdown",
      "source": [],
      "metadata": {
        "id": "KHmMpehBmcPP"
      }
    },
    {
      "cell_type": "code",
      "source": [
        "#3 Write a code to slice the first 3 characters from the string \"Python Programming\"\n",
        "string = \"Python Programming\"\n",
        "print(string[:3])"
      ],
      "metadata": {
        "colab": {
          "base_uri": "https://localhost:8080/"
        },
        "id": "AVJDsvIPzdXf",
        "outputId": "6f6ff680-b6e7-4949-c076-eed56443c0d2"
      },
      "execution_count": 3,
      "outputs": [
        {
          "output_type": "stream",
          "name": "stdout",
          "text": [
            "Pyt\n"
          ]
        }
      ]
    },
    {
      "cell_type": "code",
      "source": [
        "#4 Write a code to convert the string \"hello\" to uppercaseE\n",
        "string = \"hello\"\n",
        "print(string.upper())"
      ],
      "metadata": {
        "colab": {
          "base_uri": "https://localhost:8080/"
        },
        "id": "GardtmwczsIQ",
        "outputId": "e43097b8-2547-496c-cfbf-30f9bff55f70"
      },
      "execution_count": 4,
      "outputs": [
        {
          "output_type": "stream",
          "name": "stdout",
          "text": [
            "HELLO\n"
          ]
        }
      ]
    },
    {
      "cell_type": "code",
      "source": [
        "#5 Write a code to replace the word \"apple\" with \"orange\" in the string \"I like apple\"\n",
        "string = \"I like apple\"\n",
        "print(string.replace(\"apple\",\"orange\"))"
      ],
      "metadata": {
        "colab": {
          "base_uri": "https://localhost:8080/"
        },
        "id": "HD3F6a2tz7q5",
        "outputId": "49fb23c3-3813-4f7e-eeba-7cc3a31ca348"
      },
      "execution_count": 5,
      "outputs": [
        {
          "output_type": "stream",
          "name": "stdout",
          "text": [
            "I like orange\n"
          ]
        }
      ]
    },
    {
      "cell_type": "code",
      "source": [
        "#6 Write a code to create a list with numbers 1 to 5 and print it\n",
        "list = [1,2,3,4,5]\n",
        "print(list)"
      ],
      "metadata": {
        "colab": {
          "base_uri": "https://localhost:8080/"
        },
        "id": "_aQwpMjX0RFe",
        "outputId": "46819a42-2100-4f5b-f58c-7c501bf2ef0f"
      },
      "execution_count": 6,
      "outputs": [
        {
          "output_type": "stream",
          "name": "stdout",
          "text": [
            "[1, 2, 3, 4, 5]\n"
          ]
        }
      ]
    },
    {
      "cell_type": "code",
      "source": [
        "#7 Write a code to append the number 10 to the list [1, 2, 3, 4]\n",
        "list = [1,2,3,4]\n",
        "list.append(10)\n",
        "print(list)"
      ],
      "metadata": {
        "colab": {
          "base_uri": "https://localhost:8080/"
        },
        "id": "ov3eON560gMW",
        "outputId": "b4b46743-ce56-4bc8-e113-0b0ce36e83c7"
      },
      "execution_count": 7,
      "outputs": [
        {
          "output_type": "stream",
          "name": "stdout",
          "text": [
            "[1, 2, 3, 4, 10]\n"
          ]
        }
      ]
    },
    {
      "cell_type": "code",
      "source": [
        "#8 Write a code to remove the number 3 from the list [1, 2, 3, 4, 5]\n",
        "list = [1,2,3,4,5]\n",
        "list.remove(3)\n",
        "print(list)"
      ],
      "metadata": {
        "colab": {
          "base_uri": "https://localhost:8080/"
        },
        "id": "_7TR_f9m0uv9",
        "outputId": "661f902b-fd55-4302-805d-e9ebaf28ced8"
      },
      "execution_count": 8,
      "outputs": [
        {
          "output_type": "stream",
          "name": "stdout",
          "text": [
            "[1, 2, 4, 5]\n"
          ]
        }
      ]
    },
    {
      "cell_type": "code",
      "source": [
        "#9 Write a code to access the second element in the list ['a', 'b', 'c', 'd']\n",
        "list=['a','b','c','d']\n",
        "print(list[1])"
      ],
      "metadata": {
        "colab": {
          "base_uri": "https://localhost:8080/"
        },
        "id": "4AXqBzKh06k1",
        "outputId": "b98bf6b4-fe4a-4937-e627-fad41cb77fa5"
      },
      "execution_count": 10,
      "outputs": [
        {
          "output_type": "stream",
          "name": "stdout",
          "text": [
            "b\n"
          ]
        }
      ]
    },
    {
      "cell_type": "code",
      "source": [
        "#10 Write a code to reverse the list [10, 20, 30, 40, 50].\n",
        "list=[10,20,30,40,50]\n",
        "print(list[::-1])\n"
      ],
      "metadata": {
        "colab": {
          "base_uri": "https://localhost:8080/"
        },
        "id": "rYUKNi3B1WSE",
        "outputId": "26010184-446d-4896-c1a9-c369488a9683"
      },
      "execution_count": 11,
      "outputs": [
        {
          "output_type": "stream",
          "name": "stdout",
          "text": [
            "[50, 40, 30, 20, 10]\n"
          ]
        }
      ]
    },
    {
      "cell_type": "code",
      "source": [
        "#11 Write a code to create a tuple with the elements 10, 20, 30 and print it.\n",
        "tuple = (10,20,30)\n",
        "print(tuple)"
      ],
      "metadata": {
        "colab": {
          "base_uri": "https://localhost:8080/"
        },
        "id": "zMwPUUEv1x27",
        "outputId": "b33eeb34-63dc-44bb-fe08-f66394056b73"
      },
      "execution_count": 12,
      "outputs": [
        {
          "output_type": "stream",
          "name": "stdout",
          "text": [
            "(10, 20, 30)\n"
          ]
        }
      ]
    },
    {
      "cell_type": "code",
      "source": [
        "#12 Write a code to access the first element of the tuple ('apple', 'banana', 'cherry').\n",
        "tuple = ('apple', 'banana', 'cherry')\n",
        "print(tuple[0])"
      ],
      "metadata": {
        "colab": {
          "base_uri": "https://localhost:8080/"
        },
        "id": "bDgJSozr19W7",
        "outputId": "4f756643-fad5-42f8-ef84-d340c72f87b4"
      },
      "execution_count": 13,
      "outputs": [
        {
          "output_type": "stream",
          "name": "stdout",
          "text": [
            "apple\n"
          ]
        }
      ]
    },
    {
      "cell_type": "code",
      "source": [
        "#13 Write a code to count how many times the number 2 appears in the tuple (1, 2, 3, 2, 4, 2).\n",
        "tuple = (1, 2, 3, 2, 4, 2)\n",
        "print(tuple.count(2))"
      ],
      "metadata": {
        "colab": {
          "base_uri": "https://localhost:8080/"
        },
        "id": "J_sPMplD2GAh",
        "outputId": "5eaa6b6e-7605-496e-b51d-0069f71d76cc"
      },
      "execution_count": 14,
      "outputs": [
        {
          "output_type": "stream",
          "name": "stdout",
          "text": [
            "3\n"
          ]
        }
      ]
    },
    {
      "cell_type": "code",
      "source": [
        "#14 Write a code to find the index of the element \"cat\" in the tuple ('dog', 'cat', 'rabbit').\n",
        "tuple = ('dog', 'cat', 'rabbit')\n",
        "print(tuple.index(\"cat\"))"
      ],
      "metadata": {
        "colab": {
          "base_uri": "https://localhost:8080/"
        },
        "id": "fnvDUfZb2Scs",
        "outputId": "d39cdc06-a8bb-4fe2-9bdb-d11610ec49d1"
      },
      "execution_count": 15,
      "outputs": [
        {
          "output_type": "stream",
          "name": "stdout",
          "text": [
            "1\n"
          ]
        }
      ]
    },
    {
      "cell_type": "code",
      "source": [
        "#15 Write a code to check if the element \"banana\" is in the tuple ('apple', 'orange', 'banana').\n",
        "tuple = ('apple', 'orange', 'banana')\n",
        "print(\"banana\" in tuple)"
      ],
      "metadata": {
        "colab": {
          "base_uri": "https://localhost:8080/"
        },
        "id": "PfDVO4h72wbo",
        "outputId": "99e624dd-2dbe-4fa2-b59a-fda8a95d34cf"
      },
      "execution_count": 16,
      "outputs": [
        {
          "output_type": "stream",
          "name": "stdout",
          "text": [
            "True\n"
          ]
        }
      ]
    },
    {
      "cell_type": "code",
      "source": [
        "#16 Write a code to create a set with the elements 1, 2, 3, 4, 5 and print it.\n",
        "set = {1,2,3,4,5}\n",
        "print(set)"
      ],
      "metadata": {
        "colab": {
          "base_uri": "https://localhost:8080/"
        },
        "id": "ENfdnK_W28FH",
        "outputId": "fc688fa1-299a-49ab-c45e-ff6243fb9386"
      },
      "execution_count": 17,
      "outputs": [
        {
          "output_type": "stream",
          "name": "stdout",
          "text": [
            "{1, 2, 3, 4, 5}\n"
          ]
        }
      ]
    },
    {
      "cell_type": "code",
      "source": [
        "#17 Write a code to add the element 6 to the set {1, 2, 3, 4}.\n",
        "set = {1,2,3}\n",
        "set.add(6)\n",
        "print(set)"
      ],
      "metadata": {
        "colab": {
          "base_uri": "https://localhost:8080/"
        },
        "id": "koY1kYBC3HIn",
        "outputId": "aa246aa5-03d7-4496-bdc4-99a80fe11949"
      },
      "execution_count": 20,
      "outputs": [
        {
          "output_type": "stream",
          "name": "stdout",
          "text": [
            "{1, 2, 3, 6}\n"
          ]
        }
      ]
    },
    {
      "cell_type": "code",
      "source": [
        "#18 Write a code to create a tuple with the elements 10, 20, 30 and print it.\n",
        "tuple= (10,20,30)\n",
        "print(tuple)"
      ],
      "metadata": {
        "colab": {
          "base_uri": "https://localhost:8080/"
        },
        "id": "lDpOesmg3eb-",
        "outputId": "dc72b11e-8b55-4b6e-c637-dc31d29b03e6"
      },
      "execution_count": 21,
      "outputs": [
        {
          "output_type": "stream",
          "name": "stdout",
          "text": [
            "(10, 20, 30)\n"
          ]
        }
      ]
    },
    {
      "cell_type": "code",
      "source": [
        "#19 Write a code to access the first element of the tuple ('apple', 'banana', 'cherry').\n",
        "tuple = ('apple', 'banana', 'cherry')\n",
        "print(tuple[0])"
      ],
      "metadata": {
        "colab": {
          "base_uri": "https://localhost:8080/"
        },
        "id": "EB5Bxagc39tl",
        "outputId": "fb6658b7-9fd2-4cbf-e36e-09e7cf8a77fd"
      },
      "execution_count": 22,
      "outputs": [
        {
          "output_type": "stream",
          "name": "stdout",
          "text": [
            "apple\n"
          ]
        }
      ]
    },
    {
      "cell_type": "code",
      "source": [
        "#20 Write a code to count how many times the number 2 appears in the tuple (1, 2, 3, 2, 4, 2).\n",
        "tuple = (1, 2, 3, 2, 4, 2)\n",
        "print(tuple.count(2))"
      ],
      "metadata": {
        "colab": {
          "base_uri": "https://localhost:8080/"
        },
        "id": "y73sIW6F4JiV",
        "outputId": "8761900b-37e1-4629-9199-6bf597c20752"
      },
      "execution_count": 23,
      "outputs": [
        {
          "output_type": "stream",
          "name": "stdout",
          "text": [
            "3\n"
          ]
        }
      ]
    },
    {
      "cell_type": "code",
      "source": [
        "#21 Write a code to find the index of the element \"cat\" in the tuple ('dog', 'cat', 'rabbit').\n",
        "tuple = ('dog', 'cat', 'rabbit')\n",
        "print(tuple.index(\"cat\"))"
      ],
      "metadata": {
        "colab": {
          "base_uri": "https://localhost:8080/"
        },
        "id": "wcTaTiZ14UfU",
        "outputId": "7a7569ff-fe2b-4005-9f8c-0806b310f33b"
      },
      "execution_count": 24,
      "outputs": [
        {
          "output_type": "stream",
          "name": "stdout",
          "text": [
            "1\n"
          ]
        }
      ]
    },
    {
      "cell_type": "code",
      "source": [
        "#22 Write a code to check if the element \"banana\" is in the tuple ('apple', 'orange', 'banana').\n",
        "tuple = ('apple', 'orange', 'banana')\n",
        "print(\"banana\" in tuple)"
      ],
      "metadata": {
        "colab": {
          "base_uri": "https://localhost:8080/"
        },
        "id": "Rz_ot82W4dMj",
        "outputId": "c6186fb0-57cb-48f4-a60c-4750b5316538"
      },
      "execution_count": 25,
      "outputs": [
        {
          "output_type": "stream",
          "name": "stdout",
          "text": [
            "True\n"
          ]
        }
      ]
    },
    {
      "cell_type": "code",
      "source": [
        "# 23 Write a code to create a set with the elements 1, 2, 3, 4, 5 and print it.\n",
        "set = {1,2,3,4,5}\n",
        "print(set)"
      ],
      "metadata": {
        "colab": {
          "base_uri": "https://localhost:8080/"
        },
        "id": "pwoktLZn4lNL",
        "outputId": "ea4f5277-1f84-4bb1-f546-ba67ebc4fe20"
      },
      "execution_count": 26,
      "outputs": [
        {
          "output_type": "stream",
          "name": "stdout",
          "text": [
            "{1, 2, 3, 4, 5}\n"
          ]
        }
      ]
    },
    {
      "cell_type": "code",
      "source": [
        "#24 Write a code to add the element 6 to the set {1, 2, 3, 4}.\n",
        "set= {1,2,3,4}\n",
        "set.add(6)\n",
        "print(set)"
      ],
      "metadata": {
        "colab": {
          "base_uri": "https://localhost:8080/"
        },
        "id": "OUkDc8oY4tpT",
        "outputId": "a538a806-d049-41c5-fa58-2ca5e28d2931"
      },
      "execution_count": 27,
      "outputs": [
        {
          "output_type": "stream",
          "name": "stdout",
          "text": [
            "{1, 2, 3, 4, 6}\n"
          ]
        }
      ]
    },
    {
      "cell_type": "code",
      "source": [],
      "metadata": {
        "id": "QJjmPc2748Bq"
      },
      "execution_count": null,
      "outputs": []
    }
  ]
}